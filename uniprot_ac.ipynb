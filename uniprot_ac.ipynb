{
 "cells": [
  {
   "cell_type": "code",
   "execution_count": null,
   "metadata": {},
   "outputs": [],
   "source": [
    "#acをとってくるコード\n",
    "data = open(\"../uniprot_sprot_human.dat\")\n",
    "\n",
    "acs=[]\n",
    "for line in data:\n",
    "    if line.startswith(\"AC\"):\n",
    "        info = line.rstrip().split()\n",
    "        # ACが複数あるときに対応\n",
    "        for a in info[1:]:\n",
    "            acs.append(a.replace(\";\",\"\"))            \n",
    "\n",
    "#全てのACがリストで出力される\n",
    "print(acs)"
   ]
  },
  {
   "cell_type": "code",
   "execution_count": null,
   "metadata": {},
   "outputs": [],
   "source": []
  }
 ],
 "metadata": {
  "kernelspec": {
   "display_name": "base",
   "language": "python",
   "name": "python3"
  },
  "language_info": {
   "codemirror_mode": {
    "name": "ipython",
    "version": 3
   },
   "file_extension": ".py",
   "mimetype": "text/x-python",
   "name": "python",
   "nbconvert_exporter": "python",
   "pygments_lexer": "ipython3",
   "version": "3.9.12"
  }
 },
 "nbformat": 4,
 "nbformat_minor": 2
}
