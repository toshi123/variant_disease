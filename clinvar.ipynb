{
 "cells": [
  {
   "cell_type": "markdown",
   "metadata": {},
   "source": [
    "#### Clinvarに関するコード\n",
    "ファイルの名称について\n",
    "- NPをACに変換\n",
    "    - uniprot_NP2AC.json\n",
    "- ClinvarのNP（NCBIのReference sequenceにおけるタンパク質のアセッション番号）をUniprotのACに変換し、jsonにしたもの\n",
    "    - clinvar_noheader.json\n",
    "- 最初のACエントリだけ採用し、病名表記をDiseaseとPolymorphismに規格化したもの\n",
    "    - clinvar_1ac.json\n"
   ]
  },
  {
   "cell_type": "code",
   "execution_count": null,
   "metadata": {},
   "outputs": [],
   "source": [
    "import re\n",
    "import json\n",
    "from collections import defaultdict"
   ]
  },
  {
   "cell_type": "code",
   "execution_count": null,
   "metadata": {},
   "outputs": [],
   "source": [
    "clinvar_data = open(\"../clinvar_231230_noheader.txt\")"
   ]
  },
  {
   "cell_type": "code",
   "execution_count": null,
   "metadata": {},
   "outputs": [],
   "source": [
    "#RefSeqのNPをACに変換する\n",
    "UniprotNP = defaultdict(list)\n",
    "acs =[]\n",
    "NP_data = []\n",
    "\n",
    "pattern = \"NP_\\d*\\.\\d\"\n",
    "repatter = re.compile(pattern)\n",
    "\n",
    "data = open(\"../uniprot_human.dat\")\n",
    "for line in data:\n",
    "    if line.startswith(\"AC\"):\n",
    "        info = line.rstrip().split()\n",
    "        for b in info[1:]:\n",
    "            acs.append(b.replace(\";\",\"\"))  \n",
    "    if line.startswith(\"DR   RefSeq; NP\"):\n",
    "        info2 = line.split()\n",
    "        NP_data.append(info2[2].replace(\";\",\"\"))\n",
    "    if line.startswith(\"DR   MANE-Select;\"):\n",
    "        np = repatter.findall(line)\n",
    "        if np is not None:\n",
    "            NP_data.append(np[0])\n",
    "    elif line.startswith(\"//\"):\n",
    "        for a in NP_data:\n",
    "            UniprotNP[a]=acs\n",
    "        acs = []\n",
    "        NP_data = []\n",
    "\n",
    "with open('../uniprot_NP2AC.json', 'w') as f:\n",
    "    json.dump(UniprotNP, f, indent=4)"
   ]
  },
  {
   "cell_type": "code",
   "execution_count": null,
   "metadata": {},
   "outputs": [],
   "source": [
    "#acを全部入れる\n",
    "Uniprot_NP2AC = json.load(open(\"../uniprot_NP2AC.json\"))\n",
    "\n",
    "Uniprot_NP2AC_ids = []\n",
    "for data in Uniprot_NP2AC:\n",
    "    Uniprot_NP2AC_ids.append(data)\n",
    "Clinvar_dict = defaultdict(list)\n",
    "notinUniprot = []\n",
    "for line in clinvar_data:\n",
    "    entries = line.split(\"\t\")\n",
    "    if entries[2] in Uniprot_NP2AC_ids:\n",
    "        acs = Uniprot_NP2AC[entries[2]]\n",
    "        data = {\"acs\":acs,\"Variant\":{\"before\":entries[3][:3],\"after\":entries[3][-3:]},\"Position\":entries[4],\"AlphaMissense\":entries[5],\"Grantham\":entries[6],\"Sequence_flanking\":entries[7],\"pLDDT_mean\":entries[8],\"Clinical_significance\":entries[9:]}\n",
    "        Clinvar_dict[acs[0]].append(data)\n",
    "    else:\n",
    "        notinUniprot.append(entries[2])\n",
    "print(notinUniprot)\n",
    "\n",
    "with open('../clinvar_noheader.json', 'w') as f:\n",
    "    json.dump(Clinvar_dict, f, indent=4)"
   ]
  },
  {
   "cell_type": "markdown",
   "metadata": {},
   "source": [
    "分類方針\n",
    "1. benignが含まれる場合、Polymorphism\n",
    "2. pathogenicが含まれる場合、Disease"
   ]
  },
  {
   "cell_type": "code",
   "execution_count": null,
   "metadata": {},
   "outputs": [],
   "source": [
    "#acは最初のエントリだけ\n",
    "Clinvar_dict2 = defaultdict(list)\n",
    "\n",
    "for line in clinvar_data:\n",
    "    entries = line.split(\"\t\")\n",
    "    if entries[2] in Uniprot_NP2AC_ids:\n",
    "        if \"pathogenic\" in entries[9:][0].lower():\n",
    "            acs = Uniprot_NP2AC[entries[2]]\n",
    "            data = {\"Variant\":{\"before\":entries[3][:3],\"after\":entries[3][-3:]},\"Position\":entries[4],\"AlphaMissense\":entries[5],\"Grantham\":entries[6],\"Sequence_flanking\":entries[7],\"pLDDT_mean\":entries[8],\"Clinical_significance\":\"Disease\"}\n",
    "            Clinvar_dict2[acs[0]].append(data)\n",
    "        if \"benign\" in entries[9:][0].lower():\n",
    "            acs = Uniprot_NP2AC[entries[2]]\n",
    "            data = {\"Variant\":{\"before\":entries[3][:3],\"after\":entries[3][-3:]},\"Position\":entries[4],\"AlphaMissense\":entries[5],\"Grantham\":entries[6],\"Sequence_flanking\":entries[7],\"pLDDT_mean\":entries[8],\"Clinical_significance\":\"Polymorphism\"}\n",
    "            Clinvar_dict2[acs[0]].append(data)\n",
    "        \n",
    "\n",
    "with open('../clinvar_1ac.json', 'w') as f:\n",
    "    json.dump(Clinvar_dict2, f, indent=4)"
   ]
  }
 ],
 "metadata": {
  "kernelspec": {
   "display_name": "Python 3",
   "language": "python",
   "name": "python3"
  },
  "language_info": {
   "codemirror_mode": {
    "name": "ipython",
    "version": 3
   },
   "file_extension": ".py",
   "mimetype": "text/x-python",
   "name": "python",
   "nbconvert_exporter": "python",
   "pygments_lexer": "ipython3",
   "version": "3.9.12"
  }
 },
 "nbformat": 4,
 "nbformat_minor": 2
}
